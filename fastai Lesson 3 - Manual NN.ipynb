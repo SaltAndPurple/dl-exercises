{
 "cells": [
  {
   "cell_type": "code",
   "execution_count": 1,
   "id": "23c1ab49",
   "metadata": {},
   "outputs": [],
   "source": [
    "from matplotlib import pyplot\n",
    "import numpy\n",
    "import torch\n",
    "from ipywidgets import interact\n",
    "from fastai.basics import *\n",
    "\n",
    "plt.rc('figure', dpi=90)\n",
    "\n",
    "def plot_function(f, title=None, min=-2.1, max=2.1, color='r', ylim=None):\n",
    "    x = torch.linspace(min,max, 100)[:,None]\n",
    "    if ylim: plt.ylim(ylim)\n",
    "    plt.plot(x, f(x), color)\n",
    "    if title is not None: plt.title(title)\n",
    "\n",
    "\n",
    "def f(x): return 3*x**2 + 2*x + 1\n",
    "def quad(a, b, c, x): return a * x ** 2 + b * x + c\n",
    "def make_quad(a, b, c): return partial(quad, a, b, c)\n",
    "def mean_absolute_error(predictions, actuals): return torch.abs(predictions - actuals).mean()\n",
    "def noise(x, scale): return numpy.random.normal(scale=scale, size=x.shape)\n",
    "def add_noise(x, mult, add): return x * (1 + noise(x, mult)) + noise(x, add)\n",
    "numpy.random.seed(42)\n",
    "x = torch.linspace(-2, 2, steps=20)[:,None]\n",
    "y = add_noise(f(x), 0.15, 1.5)\n",
    "def quad_mean_absolute_error(params):\n",
    "\tf = make_quad(*params)\n",
    "\treturn mean_absolute_error(f(x), y)\n"
   ]
  },
  {
   "cell_type": "code",
   "execution_count": 2,
   "id": "c64de10f",
   "metadata": {},
   "outputs": [
    {
     "data": {
      "text/plain": [
       "tensor(2.4219, dtype=torch.float64, grad_fn=<MeanBackward0>)"
      ]
     },
     "execution_count": 2,
     "metadata": {},
     "output_type": "execute_result"
    }
   ],
   "source": [
    "abc = torch.tensor([1.1, 1.1, 1.1])\n",
    "abc.requires_grad_()\n",
    "\n",
    "loss = quad_mean_absolute_error(abc)\n",
    "loss"
   ]
  },
  {
   "cell_type": "code",
   "execution_count": 3,
   "id": "ac8b3a09",
   "metadata": {},
   "outputs": [],
   "source": [
    "loss.backward()"
   ]
  },
  {
   "cell_type": "code",
   "execution_count": 4,
   "id": "1f966f1a",
   "metadata": {},
   "outputs": [
    {
     "data": {
      "text/plain": [
       "tensor([-1.3529, -0.0316, -0.5000])"
      ]
     },
     "execution_count": 4,
     "metadata": {},
     "output_type": "execute_result"
    }
   ],
   "source": [
    "abc.grad"
   ]
  },
  {
   "cell_type": "code",
   "execution_count": 5,
   "id": "df194db0",
   "metadata": {},
   "outputs": [
    {
     "name": "stdout",
     "output_type": "stream",
     "text": [
      "loss=2.40\n"
     ]
    }
   ],
   "source": [
    "with torch.no_grad():\n",
    "    abc -= abc.grad*0.01\n",
    "    loss = quad_mean_absolute_error(abc)\n",
    "    \n",
    "print(f'loss={loss:.2f}')"
   ]
  },
  {
   "cell_type": "code",
   "execution_count": 6,
   "id": "8188e588",
   "metadata": {},
   "outputs": [
    {
     "name": "stdout",
     "output_type": "stream",
     "text": [
      "Step=0; loss=2.40\n",
      "Step=1; loss=2.36\n",
      "Step=2; loss=2.30\n",
      "Step=3; loss=2.21\n",
      "Step=4; loss=2.11\n",
      "Step=5; loss=1.98\n",
      "Step=6; loss=1.85\n",
      "Step=7; loss=1.72\n",
      "Step=8; loss=1.58\n",
      "Step=9; loss=1.46\n"
     ]
    }
   ],
   "source": [
    "for i in range(10):\n",
    "    loss = quad_mean_absolute_error(abc)\n",
    "    loss.backward()\n",
    "    with torch.no_grad(): abc -= abc.grad*0.01\n",
    "    print(f'Step={i}; loss={loss:.2f}')"
   ]
  },
  {
   "cell_type": "code",
   "execution_count": 8,
   "id": "dc3fc989",
   "metadata": {},
   "outputs": [
    {
     "data": {
      "image/png": "[encoded data removed]",
      "text/plain": [
       "<Figure size 576x432 with 1 Axes>"
      ]
     },
     "metadata": {},
     "output_type": "display_data"
    }
   ],
   "source": [
    "def rectified_linear(m,b,x):\n",
    "    y = m*x+b\n",
    "    return torch.clip(y, 0.)\n",
    "\n",
    "plot_function(partial(rectified_linear, 1, 1))"
   ]
  },
  {
   "cell_type": "code",
   "execution_count": 9,
   "id": "098fefdf",
   "metadata": {},
   "outputs": [
    {
     "data": {
      "application/vnd.jupyter.widget-view+json": {
       "model_id": "39d97f163c3a4f9d9629885190b2eaaf",
       "version_major": 2,
       "version_minor": 0
      },
      "text/plain": [
       "interactive(children=(FloatSlider(value=1.5, description='m', max=4.5, min=-1.5), FloatSlider(value=1.5, descr…"
      ]
     },
     "metadata": {},
     "output_type": "display_data"
    }
   ],
   "source": [
    "@interact(m=1.5,b=1.5)\n",
    "def plot_relu(m,b):\n",
    "    plot_function(partial(rectified_linear, m,b))"
   ]
  }
 ],
 "metadata": {
  "kernelspec": {
   "display_name": "Python 3 (ipykernel)",
   "language": "python",
   "name": "python3"
  },
  "language_info": {
   "codemirror_mode": {
    "name": "ipython",
    "version": 3
   },
   "file_extension": ".py",
   "mimetype": "text/x-python",
   "name": "python",
   "nbconvert_exporter": "python",
   "pygments_lexer": "ipython3",
   "version": "3.10.8"
  }
 },
 "nbformat": 4,
 "nbformat_minor": 5
}
