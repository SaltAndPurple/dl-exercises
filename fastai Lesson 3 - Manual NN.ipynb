{
 "cells": [
  {
   "cell_type": "markdown",
   "id": "d1e8053f",
   "metadata": {},
   "source": [
    "First, I'll reproduce the code from Jeremy Howard's notebook:\n",
    "https://www.kaggle.com/code/jhoward/how-does-a-neural-net-really-work"
   ]
  },
  {
   "cell_type": "code",
   "execution_count": 86,
   "id": "23c1ab49",
   "metadata": {},
   "outputs": [],
   "source": [
    "from matplotlib import pyplot\n",
    "import numpy\n",
    "import torch\n",
    "from ipywidgets import interact\n",
    "from fastai.basics import *\n",
    "\n",
    "plt.rc('figure', dpi=90)\n",
    "\n",
    "def plot_function(f, title=None, min=-2.1, max=2.1, color='r', ylim=None):\n",
    "    x = torch.linspace(min,max, 100)[:,None]\n",
    "    if ylim: plt.ylim(ylim)\n",
    "    plt.plot(x, f(x), color)\n",
    "    if title is not None: plt.title(title)\n",
    "\n",
    "\n",
    "def f(x): return 3*x**2 + 2*x + 1\n",
    "def quad(a, b, c, x): return a * x ** 2 + b * x + c\n",
    "def make_quad(a, b, c): return partial(quad, a, b, c)\n",
    "def mean_absolute_error(predictions, actuals): return torch.abs(predictions - actuals).mean()\n",
    "def noise(x, scale): return numpy.random.normal(scale=scale, size=x.shape)\n",
    "def add_noise(x, mult, add): return x * (1 + noise(x, mult)) + noise(x, add)\n",
    "numpy.random.seed(42)\n",
    "x = torch.linspace(-2, 2, steps=20)[:,None]\n",
    "y = add_noise(f(x), 0.15, 1.5)\n",
    "def quad_mean_absolute_error(params):\n",
    "\tf = make_quad(*params)\n",
    "\treturn mean_absolute_error(f(x), y)\n"
   ]
  },
  {
   "cell_type": "code",
   "execution_count": 87,
   "id": "c64de10f",
   "metadata": {},
   "outputs": [
    {
     "data": {
      "text/plain": [
       "tensor(2.4219, dtype=torch.float64, grad_fn=<MeanBackward0>)"
      ]
     },
     "execution_count": 87,
     "metadata": {},
     "output_type": "execute_result"
    }
   ],
   "source": [
    "abc = torch.tensor([1.1, 1.1, 1.1])\n",
    "abc.requires_grad_()\n",
    "\n",
    "loss = quad_mean_absolute_error(abc)\n",
    "loss"
   ]
  },
  {
   "cell_type": "code",
   "execution_count": 88,
   "id": "ac8b3a09",
   "metadata": {},
   "outputs": [],
   "source": [
    "loss.backward()"
   ]
  },
  {
   "cell_type": "code",
   "execution_count": 89,
   "id": "1f966f1a",
   "metadata": {},
   "outputs": [
    {
     "data": {
      "text/plain": [
       "tensor([-1.3529, -0.0316, -0.5000])"
      ]
     },
     "execution_count": 89,
     "metadata": {},
     "output_type": "execute_result"
    }
   ],
   "source": [
    "abc.grad"
   ]
  },
  {
   "cell_type": "code",
   "execution_count": 90,
   "id": "0f031789",
   "metadata": {},
   "outputs": [
    {
     "name": "stdout",
     "output_type": "stream",
     "text": [
      "loss=2.40\n"
     ]
    }
   ],
   "source": [
    "with torch.no_grad():\n",
    "    abc -= abc.grad*0.01\n",
    "    loss = quad_mean_absolute_error(abc)\n",
    "    \n",
    "print(f'loss={loss:.2f}')"
   ]
  },
  {
   "cell_type": "code",
   "execution_count": 91,
   "id": "b06e58d2",
   "metadata": {},
   "outputs": [
    {
     "name": "stdout",
     "output_type": "stream",
     "text": [
      "Step=0; loss=2.40\n",
      "Step=1; loss=2.36\n",
      "Step=2; loss=2.30\n",
      "Step=3; loss=2.21\n",
      "Step=4; loss=2.11\n",
      "Step=5; loss=1.98\n",
      "Step=6; loss=1.85\n",
      "Step=7; loss=1.72\n",
      "Step=8; loss=1.58\n",
      "Step=9; loss=1.46\n"
     ]
    }
   ],
   "source": [
    "for i in range(10):\n",
    "    loss = quad_mean_absolute_error(abc)\n",
    "    loss.backward()\n",
    "    with torch.no_grad(): abc -= abc.grad*0.01\n",
    "    print(f'Step={i}; loss={loss:.2f}')"
   ]
  },
  {
   "cell_type": "code",
   "execution_count": 92,
   "id": "36a6fca8",
   "metadata": {},
   "outputs": [],
   "source": [
    "def rectified_linear(m,b,x):\n",
    "    y = m*x+b\n",
    "    return torch.clip(y, 0.)"
   ]
  },
  {
   "cell_type": "code",
   "execution_count": 93,
   "id": "702cc098",
   "metadata": {},
   "outputs": [
    {
     "data": {
      "application/vnd.jupyter.widget-view+json": {
       "model_id": "87b404bfbffa4f61b5966b5b81078d29",
       "version_major": 2,
       "version_minor": 0
      },
      "text/plain": [
       "interactive(children=(FloatSlider(value=1.5, description='m', max=4.5, min=-1.5), FloatSlider(value=1.5, descr…"
      ]
     },
     "metadata": {},
     "output_type": "display_data"
    }
   ],
   "source": [
    "@interact(m=1.5,b=1.5)\n",
    "def plot_relu(m,b):\n",
    "    plot_function(partial(rectified_linear, m,b))"
   ]
  },
  {
   "cell_type": "markdown",
   "id": "ffe47436",
   "metadata": {},
   "source": [
    "### Now let's try and \"manually\" (meaning: without a predefined nn architecture) create a super-basic NN and optimize it for the Titanic Competition\n",
    "https://www.kaggle.com/competitions/titanic"
   ]
  },
  {
   "cell_type": "code",
   "execution_count": 94,
   "id": "b71abff6",
   "metadata": {},
   "outputs": [
    {
     "data": {
      "text/html": [
       "<div>\n",
       "<style scoped>\n",
       "    .dataframe tbody tr th:only-of-type {\n",
       "        vertical-align: middle;\n",
       "    }\n",
       "\n",
       "    .dataframe tbody tr th {\n",
       "        vertical-align: top;\n",
       "    }\n",
       "\n",
       "    .dataframe thead th {\n",
       "        text-align: right;\n",
       "    }\n",
       "</style>\n",
       "<table border=\"1\" class=\"dataframe\">\n",
       "  <thead>\n",
       "    <tr style=\"text-align: right;\">\n",
       "      <th></th>\n",
       "      <th>Survived</th>\n",
       "      <th>Pclass</th>\n",
       "      <th>Sex</th>\n",
       "      <th>Age</th>\n",
       "      <th>SibSp</th>\n",
       "      <th>Parch</th>\n",
       "      <th>Fare</th>\n",
       "      <th>Embarked</th>\n",
       "      <th>pClass1</th>\n",
       "      <th>pClass2</th>\n",
       "      <th>isMale</th>\n",
       "      <th>isEmbarkedS</th>\n",
       "      <th>isEmbarkedC</th>\n",
       "      <th>ageNormalized</th>\n",
       "      <th>fareNormalized</th>\n",
       "    </tr>\n",
       "  </thead>\n",
       "  <tbody>\n",
       "    <tr>\n",
       "      <th>0</th>\n",
       "      <td>0</td>\n",
       "      <td>3</td>\n",
       "      <td>male</td>\n",
       "      <td>22.0</td>\n",
       "      <td>1</td>\n",
       "      <td>0</td>\n",
       "      <td>7.2500</td>\n",
       "      <td>S</td>\n",
       "      <td>0</td>\n",
       "      <td>0</td>\n",
       "      <td>1</td>\n",
       "      <td>1</td>\n",
       "      <td>0</td>\n",
       "      <td>0.2750</td>\n",
       "      <td>0.860338</td>\n",
       "    </tr>\n",
       "    <tr>\n",
       "      <th>1</th>\n",
       "      <td>1</td>\n",
       "      <td>1</td>\n",
       "      <td>female</td>\n",
       "      <td>38.0</td>\n",
       "      <td>1</td>\n",
       "      <td>0</td>\n",
       "      <td>71.2833</td>\n",
       "      <td>C</td>\n",
       "      <td>1</td>\n",
       "      <td>0</td>\n",
       "      <td>0</td>\n",
       "      <td>0</td>\n",
       "      <td>1</td>\n",
       "      <td>0.4750</td>\n",
       "      <td>1.852988</td>\n",
       "    </tr>\n",
       "    <tr>\n",
       "      <th>2</th>\n",
       "      <td>1</td>\n",
       "      <td>3</td>\n",
       "      <td>female</td>\n",
       "      <td>26.0</td>\n",
       "      <td>0</td>\n",
       "      <td>0</td>\n",
       "      <td>7.9250</td>\n",
       "      <td>S</td>\n",
       "      <td>0</td>\n",
       "      <td>0</td>\n",
       "      <td>0</td>\n",
       "      <td>1</td>\n",
       "      <td>0</td>\n",
       "      <td>0.3250</td>\n",
       "      <td>0.898999</td>\n",
       "    </tr>\n",
       "    <tr>\n",
       "      <th>3</th>\n",
       "      <td>1</td>\n",
       "      <td>1</td>\n",
       "      <td>female</td>\n",
       "      <td>35.0</td>\n",
       "      <td>1</td>\n",
       "      <td>0</td>\n",
       "      <td>53.1000</td>\n",
       "      <td>S</td>\n",
       "      <td>1</td>\n",
       "      <td>0</td>\n",
       "      <td>0</td>\n",
       "      <td>1</td>\n",
       "      <td>0</td>\n",
       "      <td>0.4375</td>\n",
       "      <td>1.725095</td>\n",
       "    </tr>\n",
       "    <tr>\n",
       "      <th>4</th>\n",
       "      <td>0</td>\n",
       "      <td>3</td>\n",
       "      <td>male</td>\n",
       "      <td>35.0</td>\n",
       "      <td>0</td>\n",
       "      <td>0</td>\n",
       "      <td>8.0500</td>\n",
       "      <td>S</td>\n",
       "      <td>0</td>\n",
       "      <td>0</td>\n",
       "      <td>1</td>\n",
       "      <td>1</td>\n",
       "      <td>0</td>\n",
       "      <td>0.4375</td>\n",
       "      <td>0.905796</td>\n",
       "    </tr>\n",
       "    <tr>\n",
       "      <th>...</th>\n",
       "      <td>...</td>\n",
       "      <td>...</td>\n",
       "      <td>...</td>\n",
       "      <td>...</td>\n",
       "      <td>...</td>\n",
       "      <td>...</td>\n",
       "      <td>...</td>\n",
       "      <td>...</td>\n",
       "      <td>...</td>\n",
       "      <td>...</td>\n",
       "      <td>...</td>\n",
       "      <td>...</td>\n",
       "      <td>...</td>\n",
       "      <td>...</td>\n",
       "      <td>...</td>\n",
       "    </tr>\n",
       "    <tr>\n",
       "      <th>885</th>\n",
       "      <td>0</td>\n",
       "      <td>3</td>\n",
       "      <td>female</td>\n",
       "      <td>39.0</td>\n",
       "      <td>0</td>\n",
       "      <td>5</td>\n",
       "      <td>29.1250</td>\n",
       "      <td>Q</td>\n",
       "      <td>0</td>\n",
       "      <td>0</td>\n",
       "      <td>0</td>\n",
       "      <td>0</td>\n",
       "      <td>0</td>\n",
       "      <td>0.4875</td>\n",
       "      <td>1.464266</td>\n",
       "    </tr>\n",
       "    <tr>\n",
       "      <th>886</th>\n",
       "      <td>0</td>\n",
       "      <td>2</td>\n",
       "      <td>male</td>\n",
       "      <td>27.0</td>\n",
       "      <td>0</td>\n",
       "      <td>0</td>\n",
       "      <td>13.0000</td>\n",
       "      <td>S</td>\n",
       "      <td>0</td>\n",
       "      <td>1</td>\n",
       "      <td>1</td>\n",
       "      <td>1</td>\n",
       "      <td>0</td>\n",
       "      <td>0.3375</td>\n",
       "      <td>1.113943</td>\n",
       "    </tr>\n",
       "    <tr>\n",
       "      <th>887</th>\n",
       "      <td>1</td>\n",
       "      <td>1</td>\n",
       "      <td>female</td>\n",
       "      <td>19.0</td>\n",
       "      <td>0</td>\n",
       "      <td>0</td>\n",
       "      <td>30.0000</td>\n",
       "      <td>S</td>\n",
       "      <td>1</td>\n",
       "      <td>0</td>\n",
       "      <td>0</td>\n",
       "      <td>1</td>\n",
       "      <td>0</td>\n",
       "      <td>0.2375</td>\n",
       "      <td>1.477121</td>\n",
       "    </tr>\n",
       "    <tr>\n",
       "      <th>889</th>\n",
       "      <td>1</td>\n",
       "      <td>1</td>\n",
       "      <td>male</td>\n",
       "      <td>26.0</td>\n",
       "      <td>0</td>\n",
       "      <td>0</td>\n",
       "      <td>30.0000</td>\n",
       "      <td>C</td>\n",
       "      <td>1</td>\n",
       "      <td>0</td>\n",
       "      <td>1</td>\n",
       "      <td>0</td>\n",
       "      <td>1</td>\n",
       "      <td>0.3250</td>\n",
       "      <td>1.477121</td>\n",
       "    </tr>\n",
       "    <tr>\n",
       "      <th>890</th>\n",
       "      <td>0</td>\n",
       "      <td>3</td>\n",
       "      <td>male</td>\n",
       "      <td>32.0</td>\n",
       "      <td>0</td>\n",
       "      <td>0</td>\n",
       "      <td>7.7500</td>\n",
       "      <td>Q</td>\n",
       "      <td>0</td>\n",
       "      <td>0</td>\n",
       "      <td>1</td>\n",
       "      <td>0</td>\n",
       "      <td>0</td>\n",
       "      <td>0.4000</td>\n",
       "      <td>0.889302</td>\n",
       "    </tr>\n",
       "  </tbody>\n",
       "</table>\n",
       "<p>712 rows × 15 columns</p>\n",
       "</div>"
      ],
      "text/plain": [
       "     Survived  Pclass     Sex   Age  SibSp  Parch     Fare Embarked  pClass1  \\\n",
       "0           0       3    male  22.0      1      0   7.2500        S        0   \n",
       "1           1       1  female  38.0      1      0  71.2833        C        1   \n",
       "2           1       3  female  26.0      0      0   7.9250        S        0   \n",
       "3           1       1  female  35.0      1      0  53.1000        S        1   \n",
       "4           0       3    male  35.0      0      0   8.0500        S        0   \n",
       "..        ...     ...     ...   ...    ...    ...      ...      ...      ...   \n",
       "885         0       3  female  39.0      0      5  29.1250        Q        0   \n",
       "886         0       2    male  27.0      0      0  13.0000        S        0   \n",
       "887         1       1  female  19.0      0      0  30.0000        S        1   \n",
       "889         1       1    male  26.0      0      0  30.0000        C        1   \n",
       "890         0       3    male  32.0      0      0   7.7500        Q        0   \n",
       "\n",
       "     pClass2  isMale  isEmbarkedS  isEmbarkedC  ageNormalized  fareNormalized  \n",
       "0          0       1            1            0         0.2750        0.860338  \n",
       "1          0       0            0            1         0.4750        1.852988  \n",
       "2          0       0            1            0         0.3250        0.898999  \n",
       "3          0       0            1            0         0.4375        1.725095  \n",
       "4          0       1            1            0         0.4375        0.905796  \n",
       "..       ...     ...          ...          ...            ...             ...  \n",
       "885        0       0            0            0         0.4875        1.464266  \n",
       "886        1       1            1            0         0.3375        1.113943  \n",
       "887        0       0            1            0         0.2375        1.477121  \n",
       "889        0       1            0            1         0.3250        1.477121  \n",
       "890        0       1            0            0         0.4000        0.889302  \n",
       "\n",
       "[712 rows x 15 columns]"
      ]
     },
     "execution_count": 94,
     "metadata": {},
     "output_type": "execute_result"
    }
   ],
   "source": [
    "import pandas as pd\n",
    "\n",
    "# import csv\n",
    "csv = pd.read_csv(\"data/titanic/train.csv\")\n",
    "\n",
    "# cleanup superfluous data and convert columns to usable numbers\n",
    "dataframe = pd.DataFrame(csv)\n",
    "dataframe = dataframe.drop(columns=[\"PassengerId\",\"Ticket\", \"Name\",\"Cabin\"])\n",
    "# drop rows with empty cells\n",
    "dataframe = dataframe.dropna()\n",
    "\n",
    "dataframe['pClass1'] = dataframe['Pclass'].apply(lambda pclass : 1 if pclass == 1 else 0 )\n",
    "dataframe['pClass2'] = dataframe['Pclass'].apply(lambda pclass : 1 if pclass == 2 else 0)\n",
    "dataframe['isMale'] = dataframe['Sex'].apply(lambda gender : 1 if gender == 'male' else 0)\n",
    "dataframe['isEmbarkedS'] = dataframe['Embarked'].apply(lambda harbour: 1 if harbour == 'S' else 0)\n",
    "dataframe['isEmbarkedC'] = dataframe['Embarked'].apply(lambda harbour: 1 if harbour == 'C' else 0)\n",
    "dataframe['ageNormalized'] = dataframe['Age'].apply(lambda age: age / dataframe['Age'].max())\n",
    "dataframe['fareNormalized'] = dataframe['Fare'].apply(lambda fare: numpy.log10(fare))\n",
    "dataframe"
   ]
  },
  {
   "cell_type": "markdown",
   "id": "5d0a31e6",
   "metadata": {},
   "source": [
    "#### Initialize our 2 layer NN with random values"
   ]
  },
  {
   "cell_type": "code",
   "execution_count": 99,
   "id": "c3a09051",
   "metadata": {},
   "outputs": [
    {
     "data": {
      "text/plain": [
       "tensor([[0.2898, 0.1612, 0.9297, 0.8081, 0.6334, 0.8715, 0.8037, 0.1866, 0.8926,\n",
       "         0.5393],\n",
       "        [0.8074, 0.8961, 0.3180, 0.1101, 0.2279, 0.4271, 0.8180, 0.8607, 0.0070,\n",
       "         0.5107]], dtype=torch.float64, requires_grad=True)"
      ]
     },
     "execution_count": 99,
     "metadata": {},
     "output_type": "execute_result"
    }
   ],
   "source": [
    "params = torch.tensor(pd.DataFrame(np.random.random((2,10))).values)\n",
    "params.requires_grad_()"
   ]
  },
  {
   "cell_type": "markdown",
   "id": "dac1a800",
   "metadata": {},
   "source": [
    "#### Some preparations: Create a cleaned up dataframe with only the data we need and layers for receiving our calculations\n",
    "#### Apply reLU to cleaned df"
   ]
  },
  {
   "cell_type": "code",
   "execution_count": 100,
   "id": "405c5221",
   "metadata": {
    "scrolled": false
   },
   "outputs": [
    {
     "ename": "RuntimeError",
     "evalue": "element 0 of tensors does not require grad and does not have a grad_fn",
     "output_type": "error",
     "traceback": [
      "\u001b[0;31m---------------------------------------------------------------------------\u001b[0m",
      "\u001b[0;31mRuntimeError\u001b[0m                              Traceback (most recent call last)",
      "Cell \u001b[0;32mIn [100], line 14\u001b[0m\n\u001b[1;32m     12\u001b[0m \u001b[38;5;66;03m# calculate loss based on predictions - actual survival rate\u001b[39;00m\n\u001b[1;32m     13\u001b[0m loss \u001b[38;5;241m=\u001b[39m mae(torch\u001b[38;5;241m.\u001b[39mtensor(predictions\u001b[38;5;241m.\u001b[39mvalues), torch\u001b[38;5;241m.\u001b[39mtensor(dataframe[\u001b[38;5;124m'\u001b[39m\u001b[38;5;124mSurvived\u001b[39m\u001b[38;5;124m'\u001b[39m]\u001b[38;5;241m.\u001b[39mvalues))\n\u001b[0;32m---> 14\u001b[0m \u001b[43mloss\u001b[49m\u001b[38;5;241;43m.\u001b[39;49m\u001b[43mbackward\u001b[49m\u001b[43m(\u001b[49m\u001b[43m)\u001b[49m\n\u001b[1;32m     16\u001b[0m \u001b[38;5;66;03m# todo: \u001b[39;00m\n\u001b[1;32m     17\u001b[0m \u001b[38;5;66;03m# - use tensors for params - how to multiply with series?\u001b[39;00m\n\u001b[1;32m     18\u001b[0m \u001b[38;5;66;03m# - gradient function\u001b[39;00m\n\u001b[1;32m     19\u001b[0m \u001b[38;5;66;03m# - optimization loop\u001b[39;00m\n",
      "File \u001b[0;32m~/dev/projects/personal/ai/deeplearning-exercises/venv/lib/python3.10/site-packages/torch/_tensor.py:487\u001b[0m, in \u001b[0;36mTensor.backward\u001b[0;34m(self, gradient, retain_graph, create_graph, inputs)\u001b[0m\n\u001b[1;32m    477\u001b[0m \u001b[38;5;28;01mif\u001b[39;00m has_torch_function_unary(\u001b[38;5;28mself\u001b[39m):\n\u001b[1;32m    478\u001b[0m     \u001b[38;5;28;01mreturn\u001b[39;00m handle_torch_function(\n\u001b[1;32m    479\u001b[0m         Tensor\u001b[38;5;241m.\u001b[39mbackward,\n\u001b[1;32m    480\u001b[0m         (\u001b[38;5;28mself\u001b[39m,),\n\u001b[0;32m   (...)\u001b[0m\n\u001b[1;32m    485\u001b[0m         inputs\u001b[38;5;241m=\u001b[39minputs,\n\u001b[1;32m    486\u001b[0m     )\n\u001b[0;32m--> 487\u001b[0m \u001b[43mtorch\u001b[49m\u001b[38;5;241;43m.\u001b[39;49m\u001b[43mautograd\u001b[49m\u001b[38;5;241;43m.\u001b[39;49m\u001b[43mbackward\u001b[49m\u001b[43m(\u001b[49m\n\u001b[1;32m    488\u001b[0m \u001b[43m    \u001b[49m\u001b[38;5;28;43mself\u001b[39;49m\u001b[43m,\u001b[49m\u001b[43m \u001b[49m\u001b[43mgradient\u001b[49m\u001b[43m,\u001b[49m\u001b[43m \u001b[49m\u001b[43mretain_graph\u001b[49m\u001b[43m,\u001b[49m\u001b[43m \u001b[49m\u001b[43mcreate_graph\u001b[49m\u001b[43m,\u001b[49m\u001b[43m \u001b[49m\u001b[43minputs\u001b[49m\u001b[38;5;241;43m=\u001b[39;49m\u001b[43minputs\u001b[49m\n\u001b[1;32m    489\u001b[0m \u001b[43m\u001b[49m\u001b[43m)\u001b[49m\n",
      "File \u001b[0;32m~/dev/projects/personal/ai/deeplearning-exercises/venv/lib/python3.10/site-packages/torch/autograd/__init__.py:197\u001b[0m, in \u001b[0;36mbackward\u001b[0;34m(tensors, grad_tensors, retain_graph, create_graph, grad_variables, inputs)\u001b[0m\n\u001b[1;32m    192\u001b[0m     retain_graph \u001b[38;5;241m=\u001b[39m create_graph\n\u001b[1;32m    194\u001b[0m \u001b[38;5;66;03m# The reason we repeat same the comment below is that\u001b[39;00m\n\u001b[1;32m    195\u001b[0m \u001b[38;5;66;03m# some Python versions print out the first line of a multi-line function\u001b[39;00m\n\u001b[1;32m    196\u001b[0m \u001b[38;5;66;03m# calls in the traceback and some print out the last line\u001b[39;00m\n\u001b[0;32m--> 197\u001b[0m \u001b[43mVariable\u001b[49m\u001b[38;5;241;43m.\u001b[39;49m\u001b[43m_execution_engine\u001b[49m\u001b[38;5;241;43m.\u001b[39;49m\u001b[43mrun_backward\u001b[49m\u001b[43m(\u001b[49m\u001b[43m  \u001b[49m\u001b[38;5;66;43;03m# Calls into the C++ engine to run the backward pass\u001b[39;49;00m\n\u001b[1;32m    198\u001b[0m \u001b[43m    \u001b[49m\u001b[43mtensors\u001b[49m\u001b[43m,\u001b[49m\u001b[43m \u001b[49m\u001b[43mgrad_tensors_\u001b[49m\u001b[43m,\u001b[49m\u001b[43m \u001b[49m\u001b[43mretain_graph\u001b[49m\u001b[43m,\u001b[49m\u001b[43m \u001b[49m\u001b[43mcreate_graph\u001b[49m\u001b[43m,\u001b[49m\u001b[43m \u001b[49m\u001b[43minputs\u001b[49m\u001b[43m,\u001b[49m\n\u001b[1;32m    199\u001b[0m \u001b[43m    \u001b[49m\u001b[43mallow_unreachable\u001b[49m\u001b[38;5;241;43m=\u001b[39;49m\u001b[38;5;28;43;01mTrue\u001b[39;49;00m\u001b[43m,\u001b[49m\u001b[43m \u001b[49m\u001b[43maccumulate_grad\u001b[49m\u001b[38;5;241;43m=\u001b[39;49m\u001b[38;5;28;43;01mTrue\u001b[39;49;00m\u001b[43m)\u001b[49m\n",
      "\u001b[0;31mRuntimeError\u001b[0m: element 0 of tensors does not require grad and does not have a grad_fn"
     ]
    }
   ],
   "source": [
    "cleanDf = dataframe[['SibSp','Parch','pClass1','pClass2','isMale','isEmbarkedS','isEmbarkedC','ageNormalized','fareNormalized']]\n",
    "layer1,layer2,predictions = pd.DataFrame(), pd.DataFrame(), pd.DataFrame()\n",
    "\n",
    "def mae(preds, acts): return (torch.abs(preds-acts)).mean()\n",
    "\n",
    "# make two layers of reLUs and sum them up to get our predictions\n",
    "for i in range(0,9):\n",
    "  layer1[i] = cleanDf.iloc[:,i:i+1].apply(lambda x : params[0,i].item() * x + params[0,9].item()).clip(lower=0)\n",
    "  layer2[i] = cleanDf.iloc[:,i:i+1].apply(lambda x : params[1,i].item() * x + params[1,9].item()).clip(lower=0)\n",
    "    \n",
    "predictions = layer1.add(layer2).sum(axis=1)\n",
    "# calculate loss based on predictions - actual survival rate\n",
    "loss = mae(torch.tensor(predictions.values), torch.tensor(dataframe['Survived'].values))\n",
    "loss.backward()\n",
    "\n",
    "# todo: \n",
    "# - tensors, gradient - how to multiply in a way that results in usable tensors?\n",
    "# - gradient function\n",
    "# - optimization loop\n"
   ]
  }
 ],
 "metadata": {
  "kernelspec": {
   "display_name": "Python 3 (ipykernel)",
   "language": "python",
   "name": "python3"
  },
  "language_info": {
   "codemirror_mode": {
    "name": "ipython",
    "version": 3
   },
   "file_extension": ".py",
   "mimetype": "text/x-python",
   "name": "python",
   "nbconvert_exporter": "python",
   "pygments_lexer": "ipython3",
   "version": "3.10.8"
  }
 },
 "nbformat": 4,
 "nbformat_minor": 5
}
